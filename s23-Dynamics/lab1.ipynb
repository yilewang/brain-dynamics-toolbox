{
 "cells": [
  {
   "cell_type": "code",
   "execution_count": 2,
   "metadata": {},
   "outputs": [],
   "source": [
    "import networkx as nx\n",
    "import numpy as np\n",
    "import matplotlib.pyplot as plt"
   ]
  },
  {
   "cell_type": "code",
   "execution_count": 3,
   "metadata": {},
   "outputs": [
    {
     "name": "stdout",
     "output_type": "stream",
     "text": [
      "#Node: 3, #Edge: 2\n",
      "Has 3-4 edge: False\n",
      "[[0. 1. 0.]\n",
      " [1. 0. 1.]\n",
      " [0. 1. 0.]]\n",
      "{1: {'weight': 3}, 3: {'weight': 2}}\n"
     ]
    }
   ],
   "source": [
    "G=nx.Graph()\n",
    "G.add_edge(1,2)\n",
    "G.add_edge(2,3)\n",
    "print('#Node: %i, #Edge: %i' % (G.number_of_nodes(), G.number_of_edges()))\n",
    "print('Has 3-4 edge: %s' % G.has_edge(3,4))\n",
    "print(nx.to_numpy_array(G).T)\n",
    "G.add_nodes_from(range(1,7))\n",
    "G2=nx.Graph()\n",
    "G2.add_edge(1,2, weight=3)\n",
    "G2.add_edge(2,3,weight=2)\n",
    "print(G2[2])"
   ]
  },
  {
   "attachments": {},
   "cell_type": "markdown",
   "metadata": {},
   "source": [
    "### The equation of the cocitation network is\n",
    "\n",
    "$$ C_{ij} = \\sum^n_{k=1} A_{ik} A_{jk} $$"
   ]
  },
  {
   "cell_type": "code",
   "execution_count": 13,
   "metadata": {},
   "outputs": [
    {
     "name": "stdout",
     "output_type": "stream",
     "text": [
      "256\n",
      "Graph with 256 nodes and 32896 edges\n"
     ]
    }
   ],
   "source": [
    "# Read the gml file\n",
    "G = nx.read_gml(\"./proofwikidefs_la.gml\", \"name\")\n",
    "print(len(G.nodes))\n",
    "def cocitation(G):\n",
    "    \"\"\" \n",
    "    The algorithm to compute the cocitation index based on graphical approach\n",
    "    By graphical approach, which means that we need to use networkx package to compute the edges between each pair of nodes, to find out the similarity between certain pair of nodes.\n",
    "    Input:\n",
    "        graph\n",
    "    Output:\n",
    "        cocitation results\n",
    "    \"\"\"\n",
    "    # G.predecessors will return the a directed edge from m to n\n",
    "    # rational: we have a list of the m to n data, then we need to see if they have overlap.\n",
    "    # Define CG\n",
    "    CG = nx.Graph()\n",
    "\n",
    "    for ind, i in enumerate(G.nodes):\n",
    "        for j in list(G.nodes)[ind:]:\n",
    "            co_weight = len([ele for ele in list(G.predecessors(i)) if ele in list(G.predecessors(i)) and ele in list(G.predecessors(j))])\n",
    "            if co_weight > 0:\n",
    "                CG.add_edge(i, j, weight = co_weight)\n",
    "            else:\n",
    "                CG.add_edge(i, j, weight = 0)\n",
    "    return CG\n",
    "        \n",
    "# return G_cocitation\n",
    "cocit_net = cocitation(G)\n",
    "print(cocit_net)\n"
   ]
  },
  {
   "cell_type": "code",
   "execution_count": 14,
   "metadata": {},
   "outputs": [
    {
     "name": "stdout",
     "output_type": "stream",
     "text": [
      "Diff between C1 and C2 is 4872.0\n"
     ]
    },
    {
     "name": "stderr",
     "output_type": "stream",
     "text": [
      "/tmp/ipykernel_23343/3629510599.py:1: FutureWarning: adjacency_matrix will return a scipy.sparse array instead of a matrix in Networkx 3.0.\n",
      "  a = nx.adjacency_matrix(G).todense().T\n",
      "/tmp/ipykernel_23343/3629510599.py:3: DeprecationWarning: adj_matrix is deprecated and will be removed in version 3.0.\n",
      "Use `adjacency_matrix` instead\n",
      "\n",
      "  C2 = nx.adj_matrix(cocit_net).todense().T\n",
      "/opt/conda/envs/tvbenv/lib/python3.10/site-packages/networkx/linalg/graphmatrix.py:187: FutureWarning: adjacency_matrix will return a scipy.sparse array instead of a matrix in Networkx 3.0.\n",
      "  return adjacency_matrix(G, nodelist, dtype, weight)\n"
     ]
    }
   ],
   "source": [
    "a = nx.adjacency_matrix(G).todense().T\n",
    "C1 = np.dot(a, a.transpose())\n",
    "C2 = nx.adj_matrix(cocit_net).todense().T\n",
    "Cdiff = C1-C2\n",
    "print(f\"Diff between C1 and C2 is {Cdiff.sum().sum()}\")"
   ]
  }
 ],
 "metadata": {
  "kernelspec": {
   "display_name": "tvbenv",
   "language": "python",
   "name": "python3"
  },
  "language_info": {
   "codemirror_mode": {
    "name": "ipython",
    "version": 3
   },
   "file_extension": ".py",
   "mimetype": "text/x-python",
   "name": "python",
   "nbconvert_exporter": "python",
   "pygments_lexer": "ipython3",
   "version": "3.10.9 (main, Jan 11 2023, 15:21:40) [GCC 11.2.0]"
  },
  "orig_nbformat": 4,
  "vscode": {
   "interpreter": {
    "hash": "59a1d342a145714aee4ae9837346ddd08cdf89ceaea85e6c95b04598ea40e0ea"
   }
  }
 },
 "nbformat": 4,
 "nbformat_minor": 2
}
