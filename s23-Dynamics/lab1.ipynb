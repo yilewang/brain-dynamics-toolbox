{
 "cells": [
  {
   "cell_type": "code",
   "execution_count": 1,
   "metadata": {},
   "outputs": [],
   "source": [
    "import networkx as nx"
   ]
  },
  {
   "cell_type": "code",
   "execution_count": 7,
   "metadata": {},
   "outputs": [
    {
     "name": "stdout",
     "output_type": "stream",
     "text": [
      "#Node: 3, #Edge: 2\n",
      "Has 3-4 edge: False\n"
     ]
    },
    {
     "name": "stderr",
     "output_type": "stream",
     "text": [
      "/tmp/ipykernel_28535/3845884209.py:6: FutureWarning: adjacency_matrix will return a scipy.sparse array instead of a matrix in Networkx 3.0.\n",
      "  print(nx.adjacency_matrix(G).todense())\n"
     ]
    },
    {
     "name": "stdout",
     "output_type": "stream",
     "text": [
      "[[0 1 0]\n",
      " [1 0 1]\n",
      " [0 1 0]]\n"
     ]
    }
   ],
   "source": [
    "G=nx.Graph()\n",
    "G.add_edge(1,2)\n",
    "G.add_edge(2,3)\n",
    "print('#Node: %i, #Edge: %i' % (G.number_of_nodes(), G.number_of_edges()))\n",
    "print('Has 3-4 edge: %s' % G.has_edge(3,4))\n",
    "print(nx.adjacency_matrix(G).todense())\n",
    "G.add_nodes_from(range(1,7))\n",
    "G2=nx.Graph()\n",
    "G2.add_edge(1,2, weight=3)\n",
    "G2.add_edge(2,3,weight=2)\n",
    "print(G2[2])"
   ]
  }
 ],
 "metadata": {
  "kernelspec": {
   "display_name": "tvbenv",
   "language": "python",
   "name": "python3"
  },
  "language_info": {
   "codemirror_mode": {
    "name": "ipython",
    "version": 3
   },
   "file_extension": ".py",
   "mimetype": "text/x-python",
   "name": "python",
   "nbconvert_exporter": "python",
   "pygments_lexer": "ipython3",
   "version": "3.8.13"
  },
  "orig_nbformat": 4,
  "vscode": {
   "interpreter": {
    "hash": "7d6eff59d82162ad618c2fda16bbe4a2b1e156e75fbd6961cfe85de3ca5351f8"
   }
  }
 },
 "nbformat": 4,
 "nbformat_minor": 2
}
