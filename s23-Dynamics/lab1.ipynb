{
 "cells": [
  {
   "cell_type": "code",
   "execution_count": 1,
   "metadata": {},
   "outputs": [],
   "source": [
    "import networkx as nx"
   ]
  },
  {
   "cell_type": "code",
   "execution_count": 2,
   "metadata": {},
   "outputs": [
    {
     "name": "stdout",
     "output_type": "stream",
     "text": [
      "#Node: 3, #Edge: 2\n",
      "Has 3-4 edge: False\n"
     ]
    },
    {
     "name": "stderr",
     "output_type": "stream",
     "text": [
      "/tmp/ipykernel_4691/960759022.py:6: FutureWarning: adjacency_matrix will return a scipy.sparse array instead of a matrix in Networkx 3.0.\n",
      "  print(nx.adjacency_matrix(G).todense())\n"
     ]
    },
    {
     "name": "stdout",
     "output_type": "stream",
     "text": [
      "[[0 1 0]\n",
      " [1 0 1]\n",
      " [0 1 0]]\n",
      "{1: {'weight': 3}, 3: {'weight': 2}}\n"
     ]
    }
   ],
   "source": [
    "G=nx.Graph()\n",
    "G.add_edge(1,2)\n",
    "G.add_edge(2,3)\n",
    "print('#Node: %i, #Edge: %i' % (G.number_of_nodes(), G.number_of_edges()))\n",
    "print('Has 3-4 edge: %s' % G.has_edge(3,4))\n",
    "print(nx.adjacency_matrix(G).todense())\n",
    "G.add_nodes_from(range(1,7))\n",
    "G2=nx.Graph()\n",
    "G2.add_edge(1,2, weight=3)\n",
    "G2.add_edge(2,3,weight=2)\n",
    "print(G2[2])"
   ]
  },
  {
   "cell_type": "code",
   "execution_count": null,
   "metadata": {},
   "outputs": [],
   "source": [
    "# Read the gml file\n",
    "G = nx.read_gml()"
   ]
  }
 ],
 "metadata": {
  "kernelspec": {
   "display_name": "tvbenv",
   "language": "python",
   "name": "python3"
  },
  "language_info": {
   "codemirror_mode": {
    "name": "ipython",
    "version": 3
   },
   "file_extension": ".py",
   "mimetype": "text/x-python",
   "name": "python",
   "nbconvert_exporter": "python",
   "pygments_lexer": "ipython3",
   "version": "3.10.9 (main, Jan 11 2023, 15:21:40) [GCC 11.2.0]"
  },
  "orig_nbformat": 4,
  "vscode": {
   "interpreter": {
    "hash": "59a1d342a145714aee4ae9837346ddd08cdf89ceaea85e6c95b04598ea40e0ea"
   }
  }
 },
 "nbformat": 4,
 "nbformat_minor": 2
}
