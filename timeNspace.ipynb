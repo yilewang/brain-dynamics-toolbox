{
  "cells": [
    {
      "cell_type": "markdown",
      "metadata": {
        "id": "view-in-github",
        "colab_type": "text"
      },
      "source": [
        "<a href=\"https://colab.research.google.com/github/yilewang/brain-dynamics-toolbox/blob/main/timeNspace.ipynb\" target=\"_parent\"><img src=\"https://colab.research.google.com/assets/colab-badge.svg\" alt=\"Open In Colab\"/></a>"
      ]
    },
    {
      "cell_type": "code",
      "execution_count": null,
      "metadata": {
        "id": "or3zbBFxLMRh"
      },
      "outputs": [],
      "source": [
        "import numpy as np\n",
        "import pandas as pd\n",
        "import matplotlib.pyplot as plt\n",
        "from scipy.integrate import odeint\n",
        "import ipywidgets as widgets\n",
        "plt.style.use('ggplot')\n",
        "\n",
        "my_layout = widgets.Layout()"
      ]
    },
    {
      "cell_type": "code",
      "execution_count": null,
      "metadata": {
        "colab": {
          "base_uri": "https://localhost:8080/",
          "height": 363,
          "referenced_widgets": [
            "5aa5bdbfad7a470ea68ed3fe6fb73345",
            "0fc5cb083421499b9b96f5f0563f49c0",
            "a5e44b8e728449bfacba696f7bd08957",
            "db8e96febadf4ed6bcbe3055d5b234b2",
            "b1979e73226e474a91c104a8ead2cc6e",
            "7c9bdb1ec4a24d9398d1dead0d173666",
            "e6a8ade0f24c4c58bf3b4df7c8edcac1",
            "b100305055c24849b460bad6e9fc8573",
            "185e09c093214ad48199833673595046"
          ]
        },
        "id": "SgEvNUYtLMRk",
        "outputId": "61b5b95e-5a90-412e-b1cc-211194070b67"
      },
      "outputs": [
        {
          "output_type": "display_data",
          "data": {
            "text/plain": [
              "interactive(children=(FloatSlider(value=3.7, description='a', max=5.0, min=0.1), FloatSlider(value=0.5, descri…"
            ],
            "application/vnd.jupyter.widget-view+json": {
              "version_major": 2,
              "version_minor": 0,
              "model_id": "5aa5bdbfad7a470ea68ed3fe6fb73345"
            }
          },
          "metadata": {}
        }
      ],
      "source": [
        "def logEqu(a, z):\n",
        "    return a*z*(1-z)\n",
        "\n",
        "@widgets.interact(\n",
        "    a=widgets.FloatSlider(3.7, min=0.1, max=5., step=0.1,\n",
        "                               layout=my_layout),\n",
        "    z0=widgets.FloatSlider(0.5, min=0.001, max=0.999, step=0.1,\n",
        "                               layout=my_layout))\n",
        "\n",
        "def logEquPlot(a,z0):\n",
        "    N = 500\n",
        "    res = []\n",
        "    for i in range(N):\n",
        "        if i < 1:\n",
        "            z=z0\n",
        "        res.append([z, logEqu(a,z)])\n",
        "        z = logEqu(a,z)\n",
        "    plt.plot(np.array(res)[:,0], np.array(res)[:,0], 'orange', label='diagonal z(t) = z(t)')\n",
        "    plt.scatter(np.array(res)[:,0], np.array(res)[:,1], label=\"data point\")\n",
        "    plt.xlabel(\"z(t)\")\n",
        "    plt.ylabel(\"z(t+1)\")\n",
        "    plt.title(\"logistic map: phase diagram\")\n",
        "    plt.legend()\n",
        "\n"
      ]
    }
  ],
  "metadata": {
    "interpreter": {
      "hash": "8c455a4213ad22b1ac41aa28373b87a7df4d9832b20044a15be34a8260aa3e12"
    },
    "kernelspec": {
      "display_name": "Python 3.9.4 64-bit",
      "language": "python",
      "name": "python3"
    },
    "language_info": {
      "codemirror_mode": {
        "name": "ipython",
        "version": 3
      },
      "file_extension": ".py",
      "mimetype": "text/x-python",
      "name": "python",
      "nbconvert_exporter": "python",
      "pygments_lexer": "ipython3",
      "version": "3.9.4"
    },
    "orig_nbformat": 4,
    "colab": {
      "name": "timeNspace.ipynb",
      "provenance": [],
      "collapsed_sections": [],
      "include_colab_link": true
    },
    "widgets": {
      "application/vnd.jupyter.widget-state+json": {
        "5aa5bdbfad7a470ea68ed3fe6fb73345": {
          "model_module": "@jupyter-widgets/controls",
          "model_name": "VBoxModel",
          "model_module_version": "1.5.0",
          "state": {
            "_dom_classes": [
              "widget-interact"
            ],
            "_model_module": "@jupyter-widgets/controls",
            "_model_module_version": "1.5.0",
            "_model_name": "VBoxModel",
            "_view_count": null,
            "_view_module": "@jupyter-widgets/controls",
            "_view_module_version": "1.5.0",
            "_view_name": "VBoxView",
            "box_style": "",
            "children": [
              "IPY_MODEL_0fc5cb083421499b9b96f5f0563f49c0",
              "IPY_MODEL_a5e44b8e728449bfacba696f7bd08957",
              "IPY_MODEL_db8e96febadf4ed6bcbe3055d5b234b2"
            ],
            "layout": "IPY_MODEL_b1979e73226e474a91c104a8ead2cc6e"
          }
        },
        "0fc5cb083421499b9b96f5f0563f49c0": {
          "model_module": "@jupyter-widgets/controls",
          "model_name": "FloatSliderModel",
          "model_module_version": "1.5.0",
          "state": {
            "_dom_classes": [],
            "_model_module": "@jupyter-widgets/controls",
            "_model_module_version": "1.5.0",
            "_model_name": "FloatSliderModel",
            "_view_count": null,
            "_view_module": "@jupyter-widgets/controls",
            "_view_module_version": "1.5.0",
            "_view_name": "FloatSliderView",
            "continuous_update": true,
            "description": "a",
            "description_tooltip": null,
            "disabled": false,
            "layout": "IPY_MODEL_7c9bdb1ec4a24d9398d1dead0d173666",
            "max": 5,
            "min": 0.1,
            "orientation": "horizontal",
            "readout": true,
            "readout_format": ".2f",
            "step": 0.1,
            "style": "IPY_MODEL_e6a8ade0f24c4c58bf3b4df7c8edcac1",
            "value": 3.7
          }
        },
        "a5e44b8e728449bfacba696f7bd08957": {
          "model_module": "@jupyter-widgets/controls",
          "model_name": "FloatSliderModel",
          "model_module_version": "1.5.0",
          "state": {
            "_dom_classes": [],
            "_model_module": "@jupyter-widgets/controls",
            "_model_module_version": "1.5.0",
            "_model_name": "FloatSliderModel",
            "_view_count": null,
            "_view_module": "@jupyter-widgets/controls",
            "_view_module_version": "1.5.0",
            "_view_name": "FloatSliderView",
            "continuous_update": true,
            "description": "z0",
            "description_tooltip": null,
            "disabled": false,
            "layout": "IPY_MODEL_7c9bdb1ec4a24d9398d1dead0d173666",
            "max": 0.999,
            "min": 0.001,
            "orientation": "horizontal",
            "readout": true,
            "readout_format": ".2f",
            "step": 0.1,
            "style": "IPY_MODEL_b100305055c24849b460bad6e9fc8573",
            "value": 0.5
          }
        },
        "db8e96febadf4ed6bcbe3055d5b234b2": {
          "model_module": "@jupyter-widgets/output",
          "model_name": "OutputModel",
          "model_module_version": "1.0.0",
          "state": {
            "_dom_classes": [],
            "_model_module": "@jupyter-widgets/output",
            "_model_module_version": "1.0.0",
            "_model_name": "OutputModel",
            "_view_count": null,
            "_view_module": "@jupyter-widgets/output",
            "_view_module_version": "1.0.0",
            "_view_name": "OutputView",
            "layout": "IPY_MODEL_185e09c093214ad48199833673595046",
            "msg_id": "",
            "outputs": [
              {
                "output_type": "display_data",
                "data": {
                  "text/plain": "<Figure size 432x288 with 1 Axes>",
                  "image/png": "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\n"
                },
                "metadata": {
                  "needs_background": "light"
                }
              }
            ]
          }
        },
        "b1979e73226e474a91c104a8ead2cc6e": {
          "model_module": "@jupyter-widgets/base",
          "model_name": "LayoutModel",
          "model_module_version": "1.2.0",
          "state": {
            "_model_module": "@jupyter-widgets/base",
            "_model_module_version": "1.2.0",
            "_model_name": "LayoutModel",
            "_view_count": null,
            "_view_module": "@jupyter-widgets/base",
            "_view_module_version": "1.2.0",
            "_view_name": "LayoutView",
            "align_content": null,
            "align_items": null,
            "align_self": null,
            "border": null,
            "bottom": null,
            "display": null,
            "flex": null,
            "flex_flow": null,
            "grid_area": null,
            "grid_auto_columns": null,
            "grid_auto_flow": null,
            "grid_auto_rows": null,
            "grid_column": null,
            "grid_gap": null,
            "grid_row": null,
            "grid_template_areas": null,
            "grid_template_columns": null,
            "grid_template_rows": null,
            "height": null,
            "justify_content": null,
            "justify_items": null,
            "left": null,
            "margin": null,
            "max_height": null,
            "max_width": null,
            "min_height": null,
            "min_width": null,
            "object_fit": null,
            "object_position": null,
            "order": null,
            "overflow": null,
            "overflow_x": null,
            "overflow_y": null,
            "padding": null,
            "right": null,
            "top": null,
            "visibility": null,
            "width": null
          }
        },
        "7c9bdb1ec4a24d9398d1dead0d173666": {
          "model_module": "@jupyter-widgets/base",
          "model_name": "LayoutModel",
          "model_module_version": "1.2.0",
          "state": {
            "_model_module": "@jupyter-widgets/base",
            "_model_module_version": "1.2.0",
            "_model_name": "LayoutModel",
            "_view_count": null,
            "_view_module": "@jupyter-widgets/base",
            "_view_module_version": "1.2.0",
            "_view_name": "LayoutView",
            "align_content": null,
            "align_items": null,
            "align_self": null,
            "border": null,
            "bottom": null,
            "display": null,
            "flex": null,
            "flex_flow": null,
            "grid_area": null,
            "grid_auto_columns": null,
            "grid_auto_flow": null,
            "grid_auto_rows": null,
            "grid_column": null,
            "grid_gap": null,
            "grid_row": null,
            "grid_template_areas": null,
            "grid_template_columns": null,
            "grid_template_rows": null,
            "height": null,
            "justify_content": null,
            "justify_items": null,
            "left": null,
            "margin": null,
            "max_height": null,
            "max_width": null,
            "min_height": null,
            "min_width": null,
            "object_fit": null,
            "object_position": null,
            "order": null,
            "overflow": null,
            "overflow_x": null,
            "overflow_y": null,
            "padding": null,
            "right": null,
            "top": null,
            "visibility": null,
            "width": null
          }
        },
        "e6a8ade0f24c4c58bf3b4df7c8edcac1": {
          "model_module": "@jupyter-widgets/controls",
          "model_name": "SliderStyleModel",
          "model_module_version": "1.5.0",
          "state": {
            "_model_module": "@jupyter-widgets/controls",
            "_model_module_version": "1.5.0",
            "_model_name": "SliderStyleModel",
            "_view_count": null,
            "_view_module": "@jupyter-widgets/base",
            "_view_module_version": "1.2.0",
            "_view_name": "StyleView",
            "description_width": "",
            "handle_color": null
          }
        },
        "b100305055c24849b460bad6e9fc8573": {
          "model_module": "@jupyter-widgets/controls",
          "model_name": "SliderStyleModel",
          "model_module_version": "1.5.0",
          "state": {
            "_model_module": "@jupyter-widgets/controls",
            "_model_module_version": "1.5.0",
            "_model_name": "SliderStyleModel",
            "_view_count": null,
            "_view_module": "@jupyter-widgets/base",
            "_view_module_version": "1.2.0",
            "_view_name": "StyleView",
            "description_width": "",
            "handle_color": null
          }
        },
        "185e09c093214ad48199833673595046": {
          "model_module": "@jupyter-widgets/base",
          "model_name": "LayoutModel",
          "model_module_version": "1.2.0",
          "state": {
            "_model_module": "@jupyter-widgets/base",
            "_model_module_version": "1.2.0",
            "_model_name": "LayoutModel",
            "_view_count": null,
            "_view_module": "@jupyter-widgets/base",
            "_view_module_version": "1.2.0",
            "_view_name": "LayoutView",
            "align_content": null,
            "align_items": null,
            "align_self": null,
            "border": null,
            "bottom": null,
            "display": null,
            "flex": null,
            "flex_flow": null,
            "grid_area": null,
            "grid_auto_columns": null,
            "grid_auto_flow": null,
            "grid_auto_rows": null,
            "grid_column": null,
            "grid_gap": null,
            "grid_row": null,
            "grid_template_areas": null,
            "grid_template_columns": null,
            "grid_template_rows": null,
            "height": null,
            "justify_content": null,
            "justify_items": null,
            "left": null,
            "margin": null,
            "max_height": null,
            "max_width": null,
            "min_height": null,
            "min_width": null,
            "object_fit": null,
            "object_position": null,
            "order": null,
            "overflow": null,
            "overflow_x": null,
            "overflow_y": null,
            "padding": null,
            "right": null,
            "top": null,
            "visibility": null,
            "width": null
          }
        }
      }
    }
  },
  "nbformat": 4,
  "nbformat_minor": 0
}