{
 "cells": [
  {
   "cell_type": "markdown",
   "metadata": {},
   "source": [
    "# Interactive Python Notebook of Hodgekin-Huxley Model"
   ]
  },
  {
   "cell_type": "code",
   "execution_count": 1,
   "metadata": {},
   "outputs": [],
   "source": [
    "#%pip install ipywidgets\n",
    "import numpy as np\n",
    "import matplotlib.pyplot as plt\n",
    "import ipywidgets as widgets\n",
    "plt.style.use('ggplot')\n",
    "from scipy.integrate import odeint\n",
    "\n",
    "my_layout = widgets.Layout()"
   ]
  },
  {
   "cell_type": "code",
   "execution_count": 2,
   "metadata": {},
   "outputs": [],
   "source": [
    "def hodgkinHuxley(yy,t, I):\n",
    "\n",
    "\t#Name the variables\n",
    "\tV = yy[0]\n",
    "\tn = yy[1]\n",
    "\tm = yy[2]\n",
    "\th = yy[3]\n",
    "\t\n",
    "\t#Name the parameters\n",
    "\tC_m = 1.0\n",
    "\tV_K = -12.0\n",
    "\tV_Na = 115.0\n",
    "\tV_l = 10.613\n",
    "\tg_K = 36.0\n",
    "\tg_Na = 120.0\n",
    "\tg_l = 0.3\n",
    "\t#The injected current? ? ? ? \n",
    "\t# HH model\n",
    "\tGK = (g_K/C_m)*np.power(n, 4.0)\n",
    "\tGNa = (g_Na/C_m)*np.power(m, 3.0)*h\n",
    "\tGL = (g_l/C_m)\n",
    "\tV_dot = (I/C_m) - (GK*(V-V_K)) - (GNa*(V-V_Na)) - (GL*(V-V_l))\n",
    "\tn_dot = alpha_n(V) * (1-n) - beta_n(V) *n\n",
    "\tm_dot = alpha_m(V) * (1-m) - beta_m(V) *m\n",
    "\th_dot = alpha_h(V) * (1-h) - beta_h(V) *h\n",
    "\t\n",
    "\treturn [V_dot, n_dot, m_dot, h_dot]"
   ]
  },
  {
   "cell_type": "code",
   "execution_count": 3,
   "metadata": {},
   "outputs": [],
   "source": [
    "#Auxiliary quantities\t\n",
    "def alpha_n(V):\n",
    "    return (0.01*(10-V)) / (np.exp((10-V)/10) -1) \n",
    "\n",
    "def beta_n(V):\n",
    "    return 0.125 * np.exp(-V/80)\t\n",
    "\n",
    "def alpha_m(V):\n",
    "    return (0.1 *(25-V)) / (np.exp((25-V)/10) -1)\n",
    "\n",
    "def beta_m(V):\n",
    "    return 4 * np.exp(-V/18)\n",
    "\n",
    "def alpha_h(V):\n",
    "    return 0.07 * np.exp(-V/20)\n",
    "\n",
    "def beta_h(V):\n",
    "    return 1 / (np.exp((30-V)/10) +1) \n",
    "\n",
    "def n_inf(Vm=0.0):\n",
    "    return alpha_n(Vm) / (alpha_n(Vm) + beta_n(Vm))\n",
    "\n",
    "def m_inf(Vm=0.0):\n",
    "    return alpha_m(Vm) / (alpha_m(Vm) + beta_m(Vm))\n",
    "\n",
    "def h_inf(Vm=0.0):\n",
    "    return alpha_h(Vm) / (alpha_h(Vm) + beta_h(Vm))\n",
    "\n",
    "y0 = np.array([0.0, n_inf(), m_inf(), h_inf()])\n",
    "\n",
    "#Define time interval and spacing for the solutions\n",
    "t = np.arange(0,100,0.01)\n"
   ]
  },
  {
   "cell_type": "code",
   "execution_count": 4,
   "metadata": {},
   "outputs": [],
   "source": [
    "# @widgets.interact(\n",
    "#     I=widgets.FloatSlider(50., min=-20., max=150., step=1.,\n",
    "#                                layout=my_layout),\n",
    "#     V_Na=widgets.FloatSlider(50., min=-20., max=150., step=1.,\n",
    "#                                layout=my_layout),\n",
    "#     V_K=widgets.FloatSlider(50., min=-20., max=150., step=1.,\n",
    "#                                layout=my_layout),\n",
    "#     V_l=widgets.FloatSlider(50., min=-20., max=150., step=1.,\n",
    "#                                layout=my_layout),\n",
    "#     g_Na=widgets.FloatSlider(50., min=-20., max=150., step=1.,\n",
    "#                                layout=my_layout),\n",
    "#     g_K=widgets.FloatSlider(50., min=-20., max=150., step=1.,\n",
    "#                                layout=my_layout),\n",
    "#     g_l=widgets.FloatSlider(50., min=-20., max=150., step=1.,\n",
    "#                                layout=my_layout),\n",
    "\n",
    "# )\n",
    "# def HH_plot(V_Na, V_K, V_l, g_Na, g_K, g_l, I):\n",
    "#     plt.figure(figsize=(10, 5))\n",
    "#     plt.ylabel(\"Volts (mV)\")\n",
    "#     plt.xlabel(\"Time (msec)\")\n",
    "#     plt.suptitle(\"HH-model Dynamics\")\n",
    "#     #Pack the parameters in a single vector\n",
    "#     p = [C_m,V_Na,V_K,V_l,g_Na,g_K,g_l,I] \n",
    "#     #Call the integrator \n",
    "#     y = odeint(hodgkinHuxley, y0, t, args=(p,))\n",
    "#     plt.plot(t,y[:,0])\n"
   ]
  },
  {
   "cell_type": "code",
   "execution_count": 5,
   "metadata": {},
   "outputs": [
    {
     "data": {
      "application/vnd.jupyter.widget-view+json": {
       "model_id": "107dee9ef3dc4d728bcce1fadf7d6a4a",
       "version_major": 2,
       "version_minor": 0
      },
      "text/plain": [
       "interactive(children=(FloatSlider(value=50.0, description='I', max=150.0, min=-20.0, step=1.0), Output()), _do…"
      ]
     },
     "metadata": {},
     "output_type": "display_data"
    }
   ],
   "source": [
    "@widgets.interact(\n",
    "    I=widgets.FloatSlider(50., min=-20., max=150., step=1.,\n",
    "                               layout=my_layout))\n",
    "\n",
    "def hh_plot(I):\n",
    "    plt.figure(figsize=(10, 5))\n",
    "    plt.ylabel(\"Volts (mV)\")\n",
    "    plt.xlabel(\"Time (msec)\")\n",
    "    plt.suptitle(\"HH-model Dynamics\")\n",
    "    #Pack the parameters in a single vector\n",
    "    #Call the integrator \n",
    "    y = odeint(hodgkinHuxley, y0, t, args=(I,))\n",
    "    plt.plot(t,y[:,0], label = f\"external current = {I}\")\n",
    "    plt.legend()"
   ]
  },
  {
   "cell_type": "code",
   "execution_count": 6,
   "metadata": {},
   "outputs": [
    {
     "ename": "TypeError",
     "evalue": "hodgkinHuxley() missing 1 required positional argument: 'I'",
     "output_type": "error",
     "traceback": [
      "\u001b[1;31m---------------------------------------------------------------------------\u001b[0m",
      "\u001b[1;31mTypeError\u001b[0m                                 Traceback (most recent call last)",
      "\u001b[1;32m<ipython-input-6-dcf90d456829>\u001b[0m in \u001b[0;36m<module>\u001b[1;34m\u001b[0m\n\u001b[0;32m      1\u001b[0m \u001b[1;32mfor\u001b[0m \u001b[0mI\u001b[0m \u001b[1;32min\u001b[0m \u001b[0mnp\u001b[0m\u001b[1;33m.\u001b[0m\u001b[0maround\u001b[0m\u001b[1;33m(\u001b[0m\u001b[0mnp\u001b[0m\u001b[1;33m.\u001b[0m\u001b[0marange\u001b[0m\u001b[1;33m(\u001b[0m\u001b[1;36m2.2\u001b[0m\u001b[1;33m,\u001b[0m \u001b[1;36m2.3\u001b[0m\u001b[1;33m,\u001b[0m \u001b[1;36m0.04\u001b[0m\u001b[1;33m)\u001b[0m\u001b[1;33m,\u001b[0m \u001b[1;36m3\u001b[0m\u001b[1;33m)\u001b[0m\u001b[1;33m:\u001b[0m\u001b[1;33m\u001b[0m\u001b[1;33m\u001b[0m\u001b[0m\n\u001b[1;32m----> 2\u001b[1;33m     \u001b[0my\u001b[0m \u001b[1;33m=\u001b[0m \u001b[0modeint\u001b[0m\u001b[1;33m(\u001b[0m\u001b[0mhodgkinHuxley\u001b[0m\u001b[1;33m,\u001b[0m \u001b[0my0\u001b[0m\u001b[1;33m,\u001b[0m \u001b[0mt\u001b[0m\u001b[1;33m)\u001b[0m\u001b[1;33m\u001b[0m\u001b[1;33m\u001b[0m\u001b[0m\n\u001b[0m\u001b[0;32m      3\u001b[0m     \u001b[0mplt\u001b[0m\u001b[1;33m.\u001b[0m\u001b[0mplot\u001b[0m\u001b[1;33m(\u001b[0m\u001b[0mt\u001b[0m\u001b[1;33m,\u001b[0m\u001b[0my\u001b[0m\u001b[1;33m[\u001b[0m\u001b[1;33m:\u001b[0m\u001b[1;33m,\u001b[0m\u001b[1;36m0\u001b[0m\u001b[1;33m]\u001b[0m\u001b[1;33m,\u001b[0m \u001b[0mlabel\u001b[0m \u001b[1;33m=\u001b[0m \u001b[1;34mf\"external current = {I}\"\u001b[0m\u001b[1;33m)\u001b[0m\u001b[1;33m\u001b[0m\u001b[1;33m\u001b[0m\u001b[0m\n\u001b[0;32m      4\u001b[0m     \u001b[0mplt\u001b[0m\u001b[1;33m.\u001b[0m\u001b[0mlegend\u001b[0m\u001b[1;33m(\u001b[0m\u001b[1;33m)\u001b[0m\u001b[1;33m\u001b[0m\u001b[1;33m\u001b[0m\u001b[0m\n",
      "\u001b[1;32mC:\\python3.9\\lib\\site-packages\\scipy\\integrate\\odepack.py\u001b[0m in \u001b[0;36modeint\u001b[1;34m(func, y0, t, args, Dfun, col_deriv, full_output, ml, mu, rtol, atol, tcrit, h0, hmax, hmin, ixpr, mxstep, mxhnil, mxordn, mxords, printmessg, tfirst)\u001b[0m\n\u001b[0;32m    239\u001b[0m     \u001b[0mt\u001b[0m \u001b[1;33m=\u001b[0m \u001b[0mcopy\u001b[0m\u001b[1;33m(\u001b[0m\u001b[0mt\u001b[0m\u001b[1;33m)\u001b[0m\u001b[1;33m\u001b[0m\u001b[1;33m\u001b[0m\u001b[0m\n\u001b[0;32m    240\u001b[0m     \u001b[0my0\u001b[0m \u001b[1;33m=\u001b[0m \u001b[0mcopy\u001b[0m\u001b[1;33m(\u001b[0m\u001b[0my0\u001b[0m\u001b[1;33m)\u001b[0m\u001b[1;33m\u001b[0m\u001b[1;33m\u001b[0m\u001b[0m\n\u001b[1;32m--> 241\u001b[1;33m     output = _odepack.odeint(func, y0, t, args, Dfun, col_deriv, ml, mu,\n\u001b[0m\u001b[0;32m    242\u001b[0m                              \u001b[0mfull_output\u001b[0m\u001b[1;33m,\u001b[0m \u001b[0mrtol\u001b[0m\u001b[1;33m,\u001b[0m \u001b[0matol\u001b[0m\u001b[1;33m,\u001b[0m \u001b[0mtcrit\u001b[0m\u001b[1;33m,\u001b[0m \u001b[0mh0\u001b[0m\u001b[1;33m,\u001b[0m \u001b[0mhmax\u001b[0m\u001b[1;33m,\u001b[0m \u001b[0mhmin\u001b[0m\u001b[1;33m,\u001b[0m\u001b[1;33m\u001b[0m\u001b[1;33m\u001b[0m\u001b[0m\n\u001b[0;32m    243\u001b[0m                              \u001b[0mixpr\u001b[0m\u001b[1;33m,\u001b[0m \u001b[0mmxstep\u001b[0m\u001b[1;33m,\u001b[0m \u001b[0mmxhnil\u001b[0m\u001b[1;33m,\u001b[0m \u001b[0mmxordn\u001b[0m\u001b[1;33m,\u001b[0m \u001b[0mmxords\u001b[0m\u001b[1;33m,\u001b[0m\u001b[1;33m\u001b[0m\u001b[1;33m\u001b[0m\u001b[0m\n",
      "\u001b[1;31mTypeError\u001b[0m: hodgkinHuxley() missing 1 required positional argument: 'I'"
     ]
    }
   ],
   "source": [
    "# for I in np.around(np.arange(2.2, 2.3, 0.04), 3):\n",
    "#     y = odeint(hodgkinHuxley, y0, t)\n",
    "#     plt.plot(t,y[:,0], label = f\"external current = {I}\")\n",
    "#     plt.legend()"
   ]
  }
 ],
 "metadata": {
  "interpreter": {
   "hash": "c819db0b61094783b121348d134d41c4e0450ebc7e72307b330662436e6d9290"
  },
  "kernelspec": {
   "display_name": "Python 3.9.4 64-bit",
   "language": "python",
   "name": "python3"
  },
  "language_info": {
   "codemirror_mode": {
    "name": "ipython",
    "version": 3
   },
   "file_extension": ".py",
   "mimetype": "text/x-python",
   "name": "python",
   "nbconvert_exporter": "python",
   "pygments_lexer": "ipython3",
   "version": "3.9.4"
  },
  "orig_nbformat": 4
 },
 "nbformat": 4,
 "nbformat_minor": 2
}
