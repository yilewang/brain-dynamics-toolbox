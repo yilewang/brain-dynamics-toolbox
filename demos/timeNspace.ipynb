{
 "cells": [
  {
   "cell_type": "code",
   "execution_count": null,
   "metadata": {},
   "outputs": [],
   "source": [
    "import numpy as np\n",
    "import pandas as pd\n",
    "import matplotlib.pyplot as plt\n",
    "from scipy.integrate import odeint"
   ]
  },
  {
   "cell_type": "code",
   "execution_count": null,
   "metadata": {},
   "outputs": [],
   "source": [
    "def logEqu(a, z):\n",
    "    return a*z*(1-z)\n",
    "\n",
    "a=1.64\n",
    "ts = np.arange(-3, 3, 0.01)\n",
    "y=[]\n",
    "for z in ts:\n",
    "    y.append(logEqu(a, z))\n",
    "\n",
    "plt.plot()\n"
   ]
  },
  {
   "cell_type": "code",
   "execution_count": null,
   "metadata": {},
   "outputs": [],
   "source": [
    "def logEqu(a, z):\n",
    "    return a*z*(1-z)\n",
    "N = 100\n",
    "y=[]\n",
    "a=1.64\n",
    "z=0.5\n",
    "for i in range(N):\n",
    "    z = logEqu(a,z)\n",
    "    y.append(z)\n",
    "\n",
    "for i in range(N-1):\n",
    "    plt.plot(y[i], y[i+1])"
   ]
  }
 ],
 "metadata": {
  "interpreter": {
   "hash": "e3aab1fa5f79352fecdf7fbbb0c622827de056aae1b7ef507c7f9c49073eb6da"
  },
  "kernelspec": {
   "display_name": "Python 3.8.12 ('tvbenv')",
   "language": "python",
   "name": "python3"
  },
  "language_info": {
   "codemirror_mode": {
    "name": "ipython",
    "version": 3
   },
   "file_extension": ".py",
   "mimetype": "text/x-python",
   "name": "python",
   "nbconvert_exporter": "python",
   "pygments_lexer": "ipython3",
   "version": "3.8.12"
  },
  "orig_nbformat": 4
 },
 "nbformat": 4,
 "nbformat_minor": 2
}
