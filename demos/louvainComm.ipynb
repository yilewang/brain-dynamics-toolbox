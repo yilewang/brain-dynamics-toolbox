{
 "cells": [
  {
   "cell_type": "markdown",
   "metadata": {},
   "source": [
    "## A Louvain Community Detection Algorithm\n",
    "\n",
    "This notebook file aims to give out an easy example of using Louvain community detection algorithm in our structural connectivity data. For the Louvain community algorithm, it is a method to extract communities from large networks. The original paper can be found in [here](https://iopscience.iop.org/article/10.1088/1742-5468/2008/10/P10008/pdf). One sentence version: this algorithm is evaluating the density of the nodes within a community, then generating classification results."
   ]
  },
  {
   "cell_type": "code",
   "execution_count": null,
   "metadata": {},
   "outputs": [],
   "source": [
    "import networkx as nx\n",
    "import community as community_louvain\n",
    "import matplotlib.pyplot as plt\n",
    "import matplotlib.cm as cm\n",
    "import io, os\n",
    "import pandas as pd\n",
    "plt.style.use('ggplot')\n"
   ]
  },
  {
   "cell_type": "code",
   "execution_count": null,
   "metadata": {},
   "outputs": [],
   "source": [
    "# define the graph\n",
    "# edge = []\n",
    "# for i in range(16):\n",
    "#     for z in range(16):\n",
    "#         if i != z:\n",
    "#             edge.append((i,z))"
   ]
  },
  {
   "cell_type": "code",
   "execution_count": null,
   "metadata": {},
   "outputs": [],
   "source": [
    "### label information\n",
    "node_names = {0:'aCNG-L', 1:'aCNG-R',2: 'mCNG-L',3:'mCNG-R',4:'pCNG-L',5:'pCNG-R', 6:'HIP-L',7:'HIP-R',8:'PHG-L',9:'PHG-R',10:'AMY-L',11:'AMY-R', 12:'sTEMp-L',13:'sTEMp-R',14:'mTEMp-L',15:'mTEMp-R'}\n",
    "\n",
    "### read weight matrix\n",
    "#! wget -c -O sc.txt --no-check-certificate https://github.com/yilewang/tvbdemos/raw/master/sc.txt \n",
    "cwd = os.getcwd()\n",
    "pth = cwd + '/sc.txt' #! change to your own path\n",
    "openSC = open(pth,\"r\")\n",
    "lines = openSC.read()\n",
    "df = pd.read_csv(io.StringIO(lines), sep='\\t', header=None, index_col=None, engine=\"python\")\n",
    "\n",
    "### drop the edge with weights less than 1\n",
    "edge = []\n",
    "for j in range(16):\n",
    "    for k in range(16):\n",
    "        if df.iloc[j,k] > 1:\n",
    "            edge.append((j,k))"
   ]
  },
  {
   "cell_type": "code",
   "execution_count": null,
   "metadata": {},
   "outputs": [],
   "source": [
    "### create edge network\n",
    "G = nx.Graph()\n",
    "G.add_edges_from(edge)\n",
    "\n",
    "### retrun partition as a dict\n",
    "partition = community_louvain.best_partition(G)\n",
    "\n",
    "### visualization\n",
    "plt.figure(figsize=(15,10))\n",
    "plt.title(\"Simple Graph Demo of Louvain Community Detection Algorithm\")\n",
    "pos = nx.spring_layout(G)\n",
    "cmap = cm.get_cmap('rainbow', max(partition.values()) + 1)\n",
    "nx.draw_networkx_nodes(G, pos, partition.keys(), node_size=100,cmap=cmap, node_color=list(partition.values()), alpha=0.6)\n",
    "nx.draw_networkx_edges(G, pos, alpha=0.5)\n",
    "nx.draw_networkx_labels(G, pos, node_names, font_size=15, font_color=\"black\")\n",
    "plt.show()"
   ]
  }
 ],
 "metadata": {
  "kernelspec": {
   "display_name": "Python 3.8.13 ('tvbenv')",
   "language": "python",
   "name": "python3"
  },
  "language_info": {
   "codemirror_mode": {
    "name": "ipython",
    "version": 3
   },
   "file_extension": ".py",
   "mimetype": "text/x-python",
   "name": "python",
   "nbconvert_exporter": "python",
   "pygments_lexer": "ipython3",
   "version": "3.8.13"
  },
  "orig_nbformat": 4,
  "vscode": {
   "interpreter": {
    "hash": "d3c26eedd07840027ff202a94d88c89e67a86d8b5dcd58f087e1d46a589dbbcf"
   }
  }
 },
 "nbformat": 4,
 "nbformat_minor": 2
}
