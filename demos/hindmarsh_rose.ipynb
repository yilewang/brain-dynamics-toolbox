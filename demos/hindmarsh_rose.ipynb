{
 "cells": [
  {
   "cell_type": "markdown",
   "metadata": {},
   "source": [
    "### Hindmarsh-Rose Model\n",
    "\n",
    "$$dx/dt = y+\\phi(x) - z + I$$\n",
    "$$ dy/dt = \\psi(x) - y$$\n",
    "$$dz/dt = r*[s(x-x_R)-z]$$\n",
    "\n",
    "$$\\phi(x) = -ax^3 +bx^2$$\n",
    "\n",
    "$$\\psi(x) = c-dx^2$$\n",
    "\n",
    "`dx` = membrane potentials\n",
    "`dy` = fast ion channels, spiking variables\n",
    "`dz` = adaptation current, decreasing in the firing rate\n",
    "\n",
    "abcd, "
   ]
  },
  {
   "cell_type": "code",
   "execution_count": null,
   "metadata": {},
   "outputs": [],
   "source": []
  }
 ],
 "metadata": {
  "kernelspec": {
   "display_name": "Python 3.10.6 64-bit",
   "language": "python",
   "name": "python3"
  },
  "language_info": {
   "name": "python",
   "version": "3.10.6"
  },
  "orig_nbformat": 4,
  "vscode": {
   "interpreter": {
    "hash": "916dbcbb3f70747c44a77c7bcd40155683ae19c65e1c03b4aa3499c5328201f1"
   }
  }
 },
 "nbformat": 4,
 "nbformat_minor": 2
}
