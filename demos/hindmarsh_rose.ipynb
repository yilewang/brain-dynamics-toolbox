{
 "cells": [
  {
   "cell_type": "markdown",
   "metadata": {},
   "source": [
    "\n",
    "### Hindmarsh-Rose Model\n",
    "\n",
    "$$dx/dt = y+\\phi(x) - z + I$$\n",
    "$$ dy/dt = \\psi(x) - y$$\n",
    "$$dz/dt = r*[s(x-x_R)-z]$$\n",
    "\n",
    "$$\\phi(x) = -ax^3 +bx^2$$\n",
    "\n",
    "$$\\psi(x) = c-dx^2$$\n",
    "\n",
    "`dx` = membrane potentials\n",
    "\n",
    "`dy` = fast ion channels, spiking variables\n",
    "\n",
    "`dz` = adaptation current, decreasing in the firing rate\n",
    "\n",
    "`abcd`, fast ion parameters\n",
    "\n",
    "`r`, slow ion parameters (time scale of neural adaptation)\n",
    "\n",
    "`s` = 4 (scaling term to control x-x1)\n",
    "\n",
    "`x_R` = -8/5\n",
    "\n",
    "`I` \\in [-10, 10]\n",
    "\n",
    "### This Script is modified based on `dabane-ghassan.github.io/`"
   ]
  },
  {
   "cell_type": "code",
   "execution_count": 1,
   "metadata": {},
   "outputs": [],
   "source": [
    "import numpy as np\n",
    "import matplotlib.pyplot as plt \n",
    "from scipy.integrate import solve_ivp\n",
    "import ipywidgets as widgets\n",
    "plt.style.use('ggplot')\n",
    "my_layout = widgets.Layout()\n",
    "\n",
    "def hindmarsh_rose(r , s = 4, xr = -8/5, a = 1, b = 3, c = 1, d = 5, I = 2):\n",
    "    \"\"\"\n",
    "    Hindmarsh-Rose model:\n",
    "        abcd: fast ion parameters\n",
    "        r = slow ion parameters\n",
    "        s = 4\n",
    "        xr = -8/5\n",
    "        I = [-10,10]\n",
    "    \"\"\"\n",
    "    def hind_rose(t, vars):\n",
    "        x,y,z = vars\n",
    "        return np.array([y - a*x**3 + b*x**2 - z + I,\\\n",
    "                         c - d*x**2 - y,\\\n",
    "                         r *(s*(x - xr) - z)])\n",
    "    return hind_rose"
   ]
  },
  {
   "cell_type": "code",
   "execution_count": 2,
   "metadata": {},
   "outputs": [],
   "source": [
    "def simulate_hind_rose(x_init, y_init, z_init, r_param, Tmax):\n",
    "\n",
    "    # First off, let's solve the system from our initial conditions and our chose r value\n",
    "    sol = solve_ivp(hindmarsh_rose(r=r_param), [0, Tmax], (x_init, y_init, z_init), t_eval=np.linspace(0, Tmax, 500))\n",
    "\n",
    "    # Let's separate the solutions and the time vector\n",
    "    tt, tx, ty, tz = sol.t, sol.y[0], sol.y[1], sol.y[2]\n",
    "\n",
    "    # And now let's create the animation\n",
    "    fig = plt.figure(figsize=(12, 5), dpi=150)\n",
    "    ax1 = fig.add_subplot(111)\n",
    "    ax1.plot(tt, tx, 'r')\n",
    "    fig.suptitle(\n",
    "            \"Hindmarsh and Rose model Simulation, Initial conditions : $x$ = %s, $y$ = %s, $z$ = %s, $r$=%s\"\n",
    "            % (x_init, y_init, z_init, r_param))"
   ]
  },
  {
   "cell_type": "code",
   "execution_count": 3,
   "metadata": {},
   "outputs": [
    {
     "data": {
      "application/vnd.jupyter.widget-view+json": {
       "model_id": "4838eac6d94e4f03b4f38dd3216c314b",
       "version_major": 2,
       "version_minor": 0
      },
      "text/plain": [
       "interactive(children=(FloatSlider(value=0.01, description='r_param', max=0.01, min=0.001, step=0.001), Output(…"
      ]
     },
     "metadata": {},
     "output_type": "display_data"
    }
   ],
   "source": [
    "@widgets.interact(\n",
    "    r_param=widgets.FloatSlider(50., min=0.001, max=0.01, step=0.001,\n",
    "                               layout=my_layout))\n",
    "\n",
    "def hm_plot(r_param):\n",
    "    simulate_hind_rose(x_init=-1.5, y_init=-10, z_init=2, r_param=r_param, Tmax=1000)"
   ]
  }
 ],
 "metadata": {
  "kernelspec": {
   "display_name": "Python 3.9.13 ('tvbenv')",
   "language": "python",
   "name": "python3"
  },
  "language_info": {
   "codemirror_mode": {
    "name": "ipython",
    "version": 3
   },
   "file_extension": ".py",
   "mimetype": "text/x-python",
   "name": "python",
   "nbconvert_exporter": "python",
   "pygments_lexer": "ipython3",
   "version": "3.9.13"
  },
  "orig_nbformat": 4,
  "vscode": {
   "interpreter": {
    "hash": "d3c26eedd07840027ff202a94d88c89e67a86d8b5dcd58f087e1d46a589dbbcf"
   }
  }
 },
 "nbformat": 4,
 "nbformat_minor": 2
}
