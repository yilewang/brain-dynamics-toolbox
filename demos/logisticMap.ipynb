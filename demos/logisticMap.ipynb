{
 "cells": [
  {
   "cell_type": "code",
   "execution_count": 80,
   "metadata": {},
   "outputs": [],
   "source": [
    "import numpy as np\n",
    "import pandas as pd\n",
    "import matplotlib.pyplot as plt\n",
    "from scipy.integrate import odeint\n",
    "import ipywidgets as widgets\n",
    "plt.style.use('ggplot')\n",
    "\n",
    "my_layout = widgets.Layout()"
   ]
  },
  {
   "cell_type": "code",
   "execution_count": 97,
   "metadata": {},
   "outputs": [
    {
     "data": {
      "application/vnd.jupyter.widget-view+json": {
       "model_id": "ae45d9a1a8664efcac0fbdd7f8332e18",
       "version_major": 2,
       "version_minor": 0
      },
      "text/plain": [
       "interactive(children=(FloatSlider(value=1.6, description='a', max=5.0, min=0.1), FloatSlider(value=0.5, descri…"
      ]
     },
     "metadata": {},
     "output_type": "display_data"
    }
   ],
   "source": [
    "def logEqu(a, z):\n",
    "    return a*z*(1-z)\n",
    "\n",
    "@widgets.interact(\n",
    "    a=widgets.FloatSlider(3.7, min=0.1, max=5., step=0.1,\n",
    "                               layout=my_layout),\n",
    "    z0=widgets.FloatSlider(0.5, min=0.001, max=0.999, step=0.1,\n",
    "                               layout=my_layout))\n",
    "\n",
    "def logEquPlot(a,z0):\n",
    "    N = 500\n",
    "    res = []\n",
    "    for i in range(N):\n",
    "        if i < 1:\n",
    "            z=z0\n",
    "        res.append([z, logEqu(a,z)])\n",
    "        z = logEqu(a,z)\n",
    "    plt.plot(np.array(res)[:,0], np.array(res)[:,0], 'orange', label='diagonal z(t) = z(t)')\n",
    "    plt.scatter(np.array(res)[:,0], np.array(res)[:,1], label=\"data point\")\n",
    "    plt.xlabel(\"z(t)\")\n",
    "    plt.ylabel(\"z(t+1)\")\n",
    "    plt.title(\"logistic map: phase diagram\")\n",
    "    plt.legend()\n",
    "\n"
   ]
  }
 ],
 "metadata": {
  "interpreter": {
   "hash": "8c455a4213ad22b1ac41aa28373b87a7df4d9832b20044a15be34a8260aa3e12"
  },
  "kernelspec": {
   "display_name": "Python 3.9.4 64-bit",
   "language": "python",
   "name": "python3"
  },
  "language_info": {
   "codemirror_mode": {
    "name": "ipython",
    "version": 3
   },
   "file_extension": ".py",
   "mimetype": "text/x-python",
   "name": "python",
   "nbconvert_exporter": "python",
   "pygments_lexer": "ipython3",
   "version": "3.9.4"
  },
  "orig_nbformat": 4
 },
 "nbformat": 4,
 "nbformat_minor": 2
}
